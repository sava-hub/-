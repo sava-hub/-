{
 "cells": [
  {
   "cell_type": "code",
   "execution_count": 5,
   "id": "c1b9a5b4",
   "metadata": {},
   "outputs": [
    {
     "data": {
      "image/png": "[encoded data removed]",
      "text/plain": [
       "<Figure size 432x288 with 1 Axes>"
      ]
     },
     "metadata": {
      "needs_background": "light"
     },
     "output_type": "display_data"
    }
   ],
   "source": [
    "import numpy as np\n",
    "import matplotlib.pyplot as plt\n",
    "from math import factorial\n",
    "\n",
    "# Probability density of the binomial distribution\n",
    "def bin_dist(k, n, p):\n",
    "    nck = factorial(n) / (factorial(k) * factorial(n - k))\n",
    "    pd = nck * p**k * (1-p)**(n-k)\n",
    "    return pd\n",
    "\n",
    "\n",
    "x = np.arange(16)\n",
    "pd1 = np.array([bin_dist(k, 15, 0.3) for k in range(16)])\n",
    "plt.ylim(0, 0.3)\n",
    "plt.text(12.5, 0.28, 'n, p = 15, 0.3')\n",
    "plt.bar(x, pd1, color='lightcoral')\n",
    "plt.show()"
   ]
  },
  {
   "cell_type": "code",
   "execution_count": 11,
   "id": "f562a9e9",
   "metadata": {},
   "outputs": [
    {
     "data": {
      "text/plain": [
       "array([4.74756151e-03, 3.05200383e-02, 9.15601148e-02, 1.70040213e-01,\n",
       "       2.18623131e-01, 2.06130381e-01, 1.47235986e-01, 8.11300333e-02,\n",
       "       3.47700143e-02, 1.15900048e-02, 2.98028694e-03, 5.80575378e-04,\n",
       "       8.29393397e-05, 8.20279183e-06, 5.02211745e-07, 1.43489070e-08])"
      ]
     },
     "execution_count": 11,
     "metadata": {},
     "output_type": "execute_result"
    }
   ],
   "source": [
    "pd1"
   ]
  },
  {
   "cell_type": "code",
   "execution_count": null,
   "id": "c3d11819",
   "metadata": {},
   "outputs": [],
   "source": []
  }
 ],
 "metadata": {
  "kernelspec": {
   "display_name": "Python 3 (ipykernel)",
   "language": "python",
   "name": "python3"
  },
  "language_info": {
   "codemirror_mode": {
    "name": "ipython",
    "version": 3
   },
   "file_extension": ".py",
   "mimetype": "text/x-python",
   "name": "python",
   "nbconvert_exporter": "python",
   "pygments_lexer": "ipython3",
   "version": "3.9.7"
  }
 },
 "nbformat": 4,
 "nbformat_minor": 5
}
