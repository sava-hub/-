{
 "cells": [
  {
   "cell_type": "code",
   "execution_count": 5,
   "id": "e8d2de89",
   "metadata": {
    "scrolled": true
   },
   "outputs": [
    {
     "data": {
      "image/png": "[encoded data removed]",
      "text/plain": [
       "<Figure size 432x288 with 1 Axes>"
      ]
     },
     "metadata": {
      "needs_background": "light"
     },
     "output_type": "display_data"
    },
    {
     "name": "stdout",
     "output_type": "stream",
     "text": [
      "1446.62 1496.31\n"
     ]
    },
    {
     "data": {
      "text/plain": [
       "(1404.98, 19.97, 49.7, 1316.55)"
      ]
     },
     "execution_count": 5,
     "metadata": {},
     "output_type": "execute_result"
    }
   ],
   "source": [
    "import numpy as np\n",
    "import matplotlib.pyplot as plt\n",
    "\n",
    "p = np.random.normal(size=380000)\n",
    "mean = 1405\n",
    "std = 20\n",
    "p2 = std*p+mean\n",
    "p2=sorted(p2)\n",
    "\n",
    "plt.hist(p2, bins=np.arange(-5*std+mean,5*std+mean,0.1*std))\n",
    "plt.show()\n",
    "\n",
    "print(np.round(p2[-7000], 2), np.round(p2[-1], 2))\n",
    "\n",
    "np.round(np.mean(p2), 2), np.round(np.std(p2), 2), np.round(p2[-1] - p2[-7000], 2), np.round(p2[1], 2)"
   ]
  },
  {
   "cell_type": "code",
   "execution_count": 8,
   "id": "5a772f84",
   "metadata": {},
   "outputs": [
    {
     "data": {
      "image/png": "[encoded data removed]",
      "text/plain": [
       "<Figure size 432x288 with 1 Axes>"
      ]
     },
     "metadata": {
      "needs_background": "light"
     },
     "output_type": "display_data"
    },
    {
     "name": "stdout",
     "output_type": "stream",
     "text": [
      "1446.46 1460.94 1503.6\n",
      "286.11 289.05 291.12\n"
     ]
    }
   ],
   "source": [
    "import numpy as np\n",
    "import math\n",
    "import matplotlib.pyplot as plt\n",
    "\n",
    "#표본이 너무 작아서 1000배 튀김\n",
    "#만점 1500점\n",
    "#1500점 이상이 나오지 않게(15과목 다 만점? HUMAN???)\n",
    "p = np.random.normal(size=360000)\n",
    "mean = 1405\n",
    "std = 20\n",
    "p2 = std*p+mean\n",
    "\n",
    "#전교꼴지그룹\n",
    "#한반에 2명으로 추정됨(이민호 반: 황찬성, 염승현, 강유미 반: 강유미, 나혜미)\n",
    "#넉넉잡아 20명\n",
    "#이항분포(다 찍으니까, 15과목 x 30문제)\n",
    "q =  np.random.normal(size=20000)\n",
    "mean2 = 1500/5\n",
    "std2 = math.sqrt(0.2*0.8*15*30)\n",
    "\n",
    "q2 = std2*q+mean2\n",
    "\n",
    "p2 = np.concatenate([p2,q2])\n",
    "p2 = sorted(p2)\n",
    "\n",
    "plt.hist(p2, bins=np.arange(-5*std2+mean2,5*std+mean,0.1*std))\n",
    "plt.show()\n",
    "\n",
    "print(np.round(p2[-7000], 2), np.round(p2[-1000], 2), np.round(p2[-1], 2)) #(전교 7등, 1등, 가능한 최고점)\n",
    "print(np.round(p2[1000], 2), np.round(p2[2000], 2), np.round(p2[3000], 2)) #전교 꼴찌 3명"
   ]
  },
  {
   "cell_type": "code",
   "execution_count": 7,
   "id": "92017886",
   "metadata": {},
   "outputs": [
    {
     "data": {
      "image/png": "[encoded data removed]",
      "text/plain": [
       "<Figure size 432x288 with 1 Axes>"
      ]
     },
     "metadata": {
      "needs_background": "light"
     },
     "output_type": "display_data"
    },
    {
     "name": "stdout",
     "output_type": "stream",
     "text": [
      "[1448.9479130628051, 1449.1337775838629, 1450.9989936345014, 1453.209376845529, 1454.2674053038938, 1454.3611555737118, 1479.8170781878414]\n",
      "293.02997462687006 294.6399611276553 294.6845339662266\n"
     ]
    }
   ],
   "source": [
    "#풍파고 380명 표본에 적용\n",
    "p = np.random.normal(size=360)\n",
    "mean = 1405\n",
    "std = 20\n",
    "p2 = std*p+mean\n",
    "\n",
    "q =  np.random.normal(size=20)\n",
    "mean2 = 1500*0.2\n",
    "std2 = math.sqrt(0.2*0.8*15*30)\n",
    "\n",
    "q2 = std2*q+mean2\n",
    "\n",
    "p2 = np.concatenate([p2,q2])\n",
    "p2 = sorted(p2)\n",
    "\n",
    "plt.hist(p2, bins=np.arange(-5*std2+mean2,5*std+mean,0.1*std))\n",
    "plt.show()\n",
    "\n",
    "print(p2[-7:]) #전교7등 ~ 전교 1등\n",
    "\n",
    "print(p2[1], p2[2], p2[3]) #전교꼴찌 3명"
   ]
  },
  {
   "cell_type": "code",
   "execution_count": 10,
   "id": "9730fa4e",
   "metadata": {},
   "outputs": [
    {
     "data": {
      "text/plain": [
       "array([ 15200,  41800,  87400, 152000, 228000, 292600, 338200, 364800])"
      ]
     },
     "execution_count": 10,
     "metadata": {},
     "output_type": "execute_result"
    }
   ],
   "source": [
    "#평균 등급컷\n",
    "grade = np.array([0.04, 0.11, 0.23, 0.40, 0.60, 0.77, 0.89, 0.96])\n",
    "grade = np.floor(380000*grade)\n",
    "grade = grade.astype(np.int64)\n",
    "grade"
   ]
  },
  {
   "cell_type": "code",
   "execution_count": 11,
   "id": "e265588a",
   "metadata": {},
   "outputs": [
    {
     "name": "stdout",
     "output_type": "stream",
     "text": [
      "305.99\n",
      "1374.1\n",
      "1387.22\n",
      "1398.18\n",
      "1408.96\n",
      "1419.01\n",
      "1428.88\n",
      "1439.53\n"
     ]
    }
   ],
   "source": [
    "for i in grade:\n",
    "    print(np.round(p2[i], 2))"
   ]
  },
  {
   "cell_type": "code",
   "execution_count": null,
   "id": "e5de88b9",
   "metadata": {},
   "outputs": [],
   "source": [
    "#sava test\n",
    "#manju test"
   ]
  }
 ],
 "metadata": {
  "kernelspec": {
   "display_name": "Python 3 (ipykernel)",
   "language": "python",
   "name": "python3"
  },
  "language_info": {
   "codemirror_mode": {
    "name": "ipython",
    "version": 3
   },
   "file_extension": ".py",
   "mimetype": "text/x-python",
   "name": "python",
   "nbconvert_exporter": "python",
   "pygments_lexer": "ipython3",
   "version": "3.9.7"
  }
 },
 "nbformat": 4,
 "nbformat_minor": 5
}
