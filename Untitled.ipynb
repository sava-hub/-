{
 "cells": [
  {
   "cell_type": "code",
   "execution_count": 35,
   "id": "e8d2de89",
   "metadata": {
    "scrolled": true
   },
   "outputs": [
    {
     "data": {
      "image/png": "[encoded data removed]",
      "text/plain": [
       "<Figure size 432x288 with 1 Axes>"
      ]
     },
     "metadata": {
      "needs_background": "light"
     },
     "output_type": "display_data"
    },
    {
     "name": "stdout",
     "output_type": "stream",
     "text": [
      "[1488.66 1488.68 1488.73 1489.07 1489.12 1489.37 1489.58 1490.76 1490.94\n",
      " 1492.14 1492.15 1492.45 1493.05 1495.08 1498.33 1498.79 1499.74 1500.97\n",
      " 1505.94 1509.32]\n",
      "1446.74\n"
     ]
    }
   ],
   "source": [
    "#풍파고 꼴찌아닌그룹 추정\n",
    "import numpy as np\n",
    "import matplotlib.pyplot as plt\n",
    "\n",
    "#표본이 너무 작아서 1000배 튀김\n",
    "#만점 1500점\n",
    "p = np.random.normal(size=360000)\n",
    "mean = 1397.5\n",
    "std = 23.5\n",
    "p2 = std*p+mean\n",
    "p2=sorted(p2)\n",
    "\n",
    "plt.hist(p2, bins=np.arange(-5*std+mean,5*std+mean,0.1*std))\n",
    "plt.show()\n",
    "\n",
    "print(np.round(p2[-20:], 2)) #실제 36만명이 시험을 봤을 때 만점자가 극소수가 되도록\n",
    "\n",
    "print(np.round(p2[-6500], 2)) #전교 7등에 해당, 1446.7 정도가 나오도록"
   ]
  },
  {
   "cell_type": "code",
   "execution_count": 38,
   "id": "5a772f84",
   "metadata": {},
   "outputs": [
    {
     "data": {
      "image/png": "[encoded data removed]",
      "text/plain": [
       "<Figure size 432x288 with 1 Axes>"
      ]
     },
     "metadata": {
      "needs_background": "light"
     },
     "output_type": "display_data"
    },
    {
     "name": "stdout",
     "output_type": "stream",
     "text": [
      "96.45 97.85\n",
      "23.78 24.1 24.28\n"
     ]
    }
   ],
   "source": [
    "import numpy as np\n",
    "import math\n",
    "import matplotlib.pyplot as plt\n",
    "\n",
    "p = np.random.normal(size=360000)\n",
    "p2 = std*p+mean\n",
    "\n",
    "#전교꼴찌그룹\n",
    "#한반에 2명으로 추정됨(이민호 반: 황찬성, 염승현, 강유미 반: 강유미, 나혜미)\n",
    "#넉넉잡아 20명\n",
    "#이항분포(다 찍으니까 25%, 15과목 x 30문제)\n",
    "q =  np.random.normal(size=20000)\n",
    "mean2 = 1500*0.25\n",
    "std2 = math.sqrt(0.25*0.75*15*30)\n",
    "\n",
    "q2 = std2*q+mean2\n",
    "\n",
    "p2 = np.concatenate([p2,q2])\n",
    "p2 = sorted(p2)\n",
    "\n",
    "plt.hist(p2, bins=np.arange(-5*std2+mean2,5*std+mean,0.1*std))\n",
    "plt.show()\n",
    "\n",
    "print(np.round(p2[-6500]/15, 2), np.round(p2[-500]/15, 2)) #(전교 7등, 1등) 과목 평균점수\n",
    "print(np.round(p2[500]/15, 2), np.round(p2[1500]/15, 2), np.round(p2[2500]/15, 2)) #전교 꼴찌 3명 과목 평균점수"
   ]
  },
  {
   "cell_type": "code",
   "execution_count": 41,
   "id": "9730fa4e",
   "metadata": {},
   "outputs": [
    {
     "name": "stdout",
     "output_type": "stream",
     "text": [
      "95.87\n",
      "95.04\n",
      "94.26\n",
      "93.47\n",
      "92.63\n",
      "91.77\n",
      "90.73\n",
      "25.42\n"
     ]
    }
   ],
   "source": [
    "#과목 평균 등급컷\n",
    "grade = np.array([0.04, 0.11, 0.23, 0.40, 0.60, 0.77, 0.89, 0.96])\n",
    "grade = np.array([0.96, 0.89, 0.77, 0.60, 0.40, 0.23, 0.11, 0.04])\n",
    "grade = np.floor(380000*grade)\n",
    "grade = grade.astype(np.int64)\n",
    "grade\n",
    "\n",
    "for i in grade:\n",
    "    print(np.round(p2[i]/15, 2))"
   ]
  },
  {
   "cell_type": "code",
   "execution_count": 44,
   "id": "92017886",
   "metadata": {},
   "outputs": [
    {
     "data": {
      "image/png": "[encoded data removed]",
      "text/plain": [
       "<Figure size 432x288 with 1 Axes>"
      ]
     },
     "metadata": {
      "needs_background": "light"
     },
     "output_type": "display_data"
    },
    {
     "name": "stdout",
     "output_type": "stream",
     "text": [
      "[1446.76 1447.88 1448.8  1452.23 1459.46 1460.92 1472.29]\n",
      "[360.4  363.09 365.2  366.93]\n"
     ]
    }
   ],
   "source": [
    "#풍파고 380명 표본에 적용\n",
    "p = np.random.normal(size=360)\n",
    "mean = 1405\n",
    "std = 20\n",
    "p2 = std*p+mean\n",
    "\n",
    "q =  np.random.normal(size=20)\n",
    "mean2 = 1500*0.25\n",
    "std2 = math.sqrt(0.25*0.75*15*30)\n",
    "\n",
    "q2 = std2*q+mean2\n",
    "\n",
    "p2 = np.concatenate([p2,q2])\n",
    "p2 = sorted(p2)\n",
    "\n",
    "plt.hist(p2, bins=np.arange(-5*std2+mean2,5*std+mean,0.1*std))\n",
    "plt.show()\n",
    "\n",
    "print(np.round(p2[-7:], 2)) #전교7등 ~ 전교 1등\n",
    "\n",
    "print(np.round(p2[1:5], 2)) #전교꼴찌 5명"
   ]
  },
  {
   "cell_type": "code",
   "execution_count": 13,
   "id": "e5de88b9",
   "metadata": {},
   "outputs": [],
   "source": [
    "#sava test\n",
    "#manju test"
   ]
  }
 ],
 "metadata": {
  "kernelspec": {
   "display_name": "Python 3 (ipykernel)",
   "language": "python",
   "name": "python3"
  },
  "language_info": {
   "codemirror_mode": {
    "name": "ipython",
    "version": 3
   },
   "file_extension": ".py",
   "mimetype": "text/x-python",
   "name": "python",
   "nbconvert_exporter": "python",
   "pygments_lexer": "ipython3",
   "version": "3.8.8"
  }
 },
 "nbformat": 4,
 "nbformat_minor": 5
}
