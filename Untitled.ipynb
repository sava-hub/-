{
 "cells": [
  {
   "cell_type": "code",
   "execution_count": 14,
   "id": "e8d2de89",
   "metadata": {
    "scrolled": true
   },
   "outputs": [
    {
     "data": {
      "image/png": "[encoded data removed]",
      "text/plain": [
       "<Figure size 432x288 with 1 Axes>"
      ]
     },
     "metadata": {
      "needs_background": "light"
     },
     "output_type": "display_data"
    },
    {
     "name": "stdout",
     "output_type": "stream",
     "text": [
      "1446.64 1490.28\n"
     ]
    },
    {
     "data": {
      "text/plain": [
       "(1405.0, 20.01, 43.64, 1315.21)"
      ]
     },
     "execution_count": 14,
     "metadata": {},
     "output_type": "execute_result"
    }
   ],
   "source": [
    "import numpy as np\n",
    "import matplotlib.pyplot as plt\n",
    "\n",
    "p = np.random.normal(size=380000)\n",
    "mean = 1405\n",
    "std = 20\n",
    "p2 = std*p+mean\n",
    "p2=sorted(p2)\n",
    "\n",
    "plt.hist(p2, bins=np.arange(-5*std+mean,5*std+mean,0.1*std))\n",
    "plt.show()\n",
    "\n",
    "print(np.round(p2[-7000], 2), np.round(p2[-1], 2))\n",
    "\n",
    "np.round(np.mean(p2), 2), np.round(np.std(p2), 2), np.round(p2[-1] - p2[-7000], 2), np.round(p2[1], 2)"
   ]
  },
  {
   "cell_type": "code",
   "execution_count": 15,
   "id": "5a772f84",
   "metadata": {},
   "outputs": [
    {
     "data": {
      "image/png": "[encoded data removed]",
      "text/plain": [
       "<Figure size 432x288 with 1 Axes>"
      ]
     },
     "metadata": {
      "needs_background": "light"
     },
     "output_type": "display_data"
    },
    {
     "name": "stdout",
     "output_type": "stream",
     "text": [
      "1446.23 1460.58 1488.25\n",
      "359.67 363.21 365.47\n"
     ]
    }
   ],
   "source": [
    "import numpy as np\n",
    "import math\n",
    "import matplotlib.pyplot as plt\n",
    "\n",
    "#표본이 너무 작아서 1000배 튀김\n",
    "#만점 1500점\n",
    "#1500점 이상이 나오지 않게(15과목 다 만점? HUMAN???)\n",
    "p = np.random.normal(size=360000)\n",
    "mean = 1405\n",
    "std = 20\n",
    "p2 = std*p+mean\n",
    "\n",
    "#전교꼴지그룹\n",
    "#한반에 2명으로 추정됨(이민호 반: 황찬성, 염승현, 강유미 반: 강유미, 나혜미)\n",
    "#넉넉잡아 20명\n",
    "#이항분포(다 찍으니까 25%, 15과목 x 30문제)\n",
    "q =  np.random.normal(size=20000)\n",
    "mean2 = 1500*0.25\n",
    "std2 = math.sqrt(0.25*0.75*15*30)\n",
    "\n",
    "q2 = std2*q+mean2\n",
    "\n",
    "p2 = np.concatenate([p2,q2])\n",
    "p2 = sorted(p2)\n",
    "\n",
    "plt.hist(p2, bins=np.arange(-5*std2+mean2,5*std+mean,0.1*std))\n",
    "plt.show()\n",
    "\n",
    "print(np.round(p2[-7000], 2), np.round(p2[-1000], 2), np.round(p2[-1], 2)) #(전교 7등, 1등, 가능한 최고점)\n",
    "print(np.round(p2[1000], 2), np.round(p2[2000], 2), np.round(p2[3000], 2)) #전교 꼴찌 3명"
   ]
  },
  {
   "cell_type": "code",
   "execution_count": 16,
   "id": "9730fa4e",
   "metadata": {},
   "outputs": [
    {
     "name": "stdout",
     "output_type": "stream",
     "text": [
      "381.43\n",
      "1373.91\n",
      "1387.2\n",
      "1398.15\n",
      "1408.91\n",
      "1418.9\n",
      "1428.83\n",
      "1439.37\n"
     ]
    }
   ],
   "source": [
    "#평균 등급컷\n",
    "grade = np.array([0.04, 0.11, 0.23, 0.40, 0.60, 0.77, 0.89, 0.96])\n",
    "grade = np.floor(380000*grade)\n",
    "grade = grade.astype(np.int64)\n",
    "grade\n",
    "\n",
    "for i in grade:\n",
    "    print(np.round(p2[i], 2))"
   ]
  },
  {
   "cell_type": "code",
   "execution_count": 17,
   "id": "92017886",
   "metadata": {},
   "outputs": [
    {
     "data": {
      "image/png": "[encoded data removed]",
      "text/plain": [
       "<Figure size 432x288 with 1 Axes>"
      ]
     },
     "metadata": {
      "needs_background": "light"
     },
     "output_type": "display_data"
    },
    {
     "name": "stdout",
     "output_type": "stream",
     "text": [
      "[1446.544954629535, 1449.0567922865062, 1449.591858053128, 1452.0986714096362, 1452.5332245141708, 1457.7606285813886, 1484.406361500631]\n",
      "369.2116166380585 370.3942522136474 370.7598794194455\n"
     ]
    }
   ],
   "source": [
    "#풍파고 380명 표본에 적용\n",
    "p = np.random.normal(size=360)\n",
    "mean = 1405\n",
    "std = 20\n",
    "p2 = std*p+mean\n",
    "\n",
    "q =  np.random.normal(size=20)\n",
    "mean2 = 1500*0.25\n",
    "std2 = math.sqrt(0.25*0.75*15*30)\n",
    "\n",
    "q2 = std2*q+mean2\n",
    "\n",
    "p2 = np.concatenate([p2,q2])\n",
    "p2 = sorted(p2)\n",
    "\n",
    "plt.hist(p2, bins=np.arange(-5*std2+mean2,5*std+mean,0.1*std))\n",
    "plt.show()\n",
    "\n",
    "print(p2[-7:]) #전교7등 ~ 전교 1등\n",
    "\n",
    "print(p2[1], p2[2], p2[3]) #전교꼴찌 3명"
   ]
  },
  {
   "cell_type": "code",
   "execution_count": 13,
   "id": "e5de88b9",
   "metadata": {},
   "outputs": [],
   "source": [
    "#sava test\n",
    "#manju test"
   ]
  }
 ],
 "metadata": {
  "kernelspec": {
   "display_name": "Python 3 (ipykernel)",
   "language": "python",
   "name": "python3"
  },
  "language_info": {
   "codemirror_mode": {
    "name": "ipython",
    "version": 3
   },
   "file_extension": ".py",
   "mimetype": "text/x-python",
   "name": "python",
   "nbconvert_exporter": "python",
   "pygments_lexer": "ipython3",
   "version": "3.8.8"
  }
 },
 "nbformat": 4,
 "nbformat_minor": 5
}
