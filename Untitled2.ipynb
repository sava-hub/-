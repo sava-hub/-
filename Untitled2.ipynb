{
 "cells": [
  {
   "cell_type": "markdown",
   "id": "17be4fd3",
   "metadata": {},
   "source": [
    "### 이항분포 실수 확장 활용"
   ]
  },
  {
   "cell_type": "code",
   "execution_count": 2,
   "id": "4ec35f90",
   "metadata": {},
   "outputs": [
    {
     "data": {
      "text/plain": [
       "array([49])"
      ]
     },
     "execution_count": 2,
     "metadata": {},
     "output_type": "execute_result"
    }
   ],
   "source": [
    "import numpy as np\n",
    "import matplotlib.pyplot as plt"
   ]
  },
  {
   "cell_type": "markdown",
   "id": "a2b493ff",
   "metadata": {},
   "source": [
    "### 실수 확장\n",
    "$ _n C _k  = {{\\Gamma(n+1)}\\over{\\Gamma(k+1)\\Gamma(n-k+1)}}$"
   ]
  },
  {
   "cell_type": "code",
   "execution_count": 16,
   "id": "8c0cd7f9",
   "metadata": {},
   "outputs": [],
   "source": [
    "import math\n",
    "def binomial(n,r):\n",
    "    return math.gamma(n+1) / (math.gamma(r+1) * math.gamma(n-r+1))\n",
    "def bin_dist(n,p):\n",
    "    return lambda x: binomial(n,x)*(p**x)*((1-p)**(n-x))"
   ]
  },
  {
   "cell_type": "code",
   "execution_count": 24,
   "id": "06d66ce0",
   "metadata": {},
   "outputs": [],
   "source": [
    "import scipy.integrate as integ\n",
    "def integrate(f, x, y):\n",
    "    return integ.quad(f, x, y)"
   ]
  },
  {
   "cell_type": "code",
   "execution_count": 29,
   "id": "e82b19e5",
   "metadata": {},
   "outputs": [],
   "source": [
    "d2 = bin_dist(10, 0.7)\n",
    "d2 = np.vectorize(d2)"
   ]
  },
  {
   "cell_type": "code",
   "execution_count": 30,
   "id": "9647558a",
   "metadata": {},
   "outputs": [
    {
     "data": {
      "text/plain": [
       "[<matplotlib.lines.Line2D at 0x7f1b4e1e3670>]"
      ]
     },
     "execution_count": 30,
     "metadata": {},
     "output_type": "execute_result"
    },
    {
     "data": {
      "image/png": "[encoded data removed]",
      "text/plain": [
       "<Figure size 432x288 with 1 Axes>"
      ]
     },
     "metadata": {
      "needs_background": "light"
     },
     "output_type": "display_data"
    }
   ],
   "source": [
    "t = np.linspace(0, 10, 1000)\n",
    "y = d2(t)\n",
    "plt.plot(t,y)"
   ]
  },
  {
   "cell_type": "code",
   "execution_count": 13,
   "id": "e5de88b9",
   "metadata": {},
   "outputs": [],
   "source": [
    "#sava test\n",
    "#manju test"
   ]
  }
 ],
 "metadata": {
  "kernelspec": {
   "display_name": "Python 3 (ipykernel)",
   "language": "python",
   "name": "python3"
  },
  "language_info": {
   "codemirror_mode": {
    "name": "ipython",
    "version": 3
   },
   "file_extension": ".py",
   "mimetype": "text/x-python",
   "name": "python",
   "nbconvert_exporter": "python",
   "pygments_lexer": "ipython3",
   "version": "3.8.8"
  }
 },
 "nbformat": 4,
 "nbformat_minor": 5
}
