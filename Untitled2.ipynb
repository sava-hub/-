{
 "cells": [
  {
   "cell_type": "markdown",
   "id": "17be4fd3",
   "metadata": {},
   "source": [
    "### 이항분포 실수 확장 활용"
   ]
  },
  {
   "cell_type": "code",
   "execution_count": 14,
   "id": "4ec35f90",
   "metadata": {},
   "outputs": [],
   "source": [
    "import numpy as np\n",
    "import matplotlib.pyplot as plt"
   ]
  },
  {
   "cell_type": "markdown",
   "id": "a2b493ff",
   "metadata": {},
   "source": [
    "### 실수 확장\n",
    "$ _n C _k  = {{\\Gamma(n+1)}\\over{\\Gamma(k+1)\\Gamma(n-k+1)}}$"
   ]
  },
  {
   "cell_type": "code",
   "execution_count": 15,
   "id": "8c0cd7f9",
   "metadata": {},
   "outputs": [],
   "source": [
    "import math\n",
    "def binomial(n,r):\n",
    "    return math.gamma(n+1) / (math.gamma(r+1) * math.gamma(n-r+1))\n",
    "def bin_dist(n,p):\n",
    "    return lambda x: binomial(n,x)*(p**x)*((1-p)**(n-x))\n",
    "def squeeze(f,k): #평균 1/k배, 분산 1/k^2배\n",
    "    return lambda x: k*f(k*x)"
   ]
  },
  {
   "cell_type": "code",
   "execution_count": 16,
   "id": "06d66ce0",
   "metadata": {},
   "outputs": [],
   "source": [
    "import scipy.integrate as integ\n",
    "def integrate(f, x, y):\n",
    "    return integ.quad(f, x, y)"
   ]
  },
  {
   "cell_type": "markdown",
   "id": "f8ab5532",
   "metadata": {},
   "source": [
    "### 평균, 표준편차로 n, p 구하기"
   ]
  },
  {
   "cell_type": "code",
   "execution_count": 17,
   "id": "6c098c2d",
   "metadata": {},
   "outputs": [
    {
     "data": {
      "text/plain": [
       "[<matplotlib.lines.Line2D at 0x7f6e0df9d9d0>]"
      ]
     },
     "execution_count": 17,
     "metadata": {},
     "output_type": "execute_result"
    },
    {
     "data": {
      "image/png": "[encoded data removed]",
      "text/plain": [
       "<Figure size 432x288 with 1 Axes>"
      ]
     },
     "metadata": {
      "needs_background": "light"
     },
     "output_type": "display_data"
    }
   ],
   "source": [
    "mean = 32\n",
    "std = 8\n",
    "k = np.linspace(0,0.4,10000)\n",
    "\n",
    "def numf(k):\n",
    "    if k == 0:\n",
    "        return 0\n",
    "    var = std**2\n",
    "    mean2 = mean*k\n",
    "    var2 = var*(k**2)\n",
    "    q = var2/mean2\n",
    "    p = 1-q\n",
    "    n = mean2/p\n",
    "    return n\n",
    "\n",
    "numf = np.vectorize(numf)\n",
    "N = numf(k)\n",
    "plt.plot(k,N)\n"
   ]
  },
  {
   "cell_type": "code",
   "execution_count": 24,
   "id": "bb47906c",
   "metadata": {},
   "outputs": [
    {
     "name": "stdout",
     "output_type": "stream",
     "text": [
      "3.4105263157894736 0.7916666666666666 113.6842105263158\n"
     ]
    }
   ],
   "source": [
    "mean = 90\n",
    "std = 25\n",
    "k = 0.03\n",
    "\n",
    "var = std**2\n",
    "mean2 = mean*k\n",
    "var2 = var*(k**2)\n",
    "q = var2/mean2\n",
    "p = 1-q\n",
    "n = mean2/p\n",
    "print(n, p, n/k)"
   ]
  },
  {
   "cell_type": "code",
   "execution_count": 25,
   "id": "e82b19e5",
   "metadata": {
    "scrolled": true
   },
   "outputs": [
    {
     "data": {
      "image/png": "[encoded data removed]",
      "text/plain": [
       "<Figure size 432x288 with 1 Axes>"
      ]
     },
     "metadata": {
      "needs_background": "light"
     },
     "output_type": "display_data"
    }
   ],
   "source": [
    "if n < 90:\n",
    "    #연속이항분포\n",
    "    d = bin_dist(n,p)\n",
    "    d2 = squeeze(d,k)\n",
    "    d2 = np.vectorize(d2)\n",
    "    t = np.linspace(0, n/k, 10000)\n",
    "    y = d2(t)\n",
    "    plt.plot(t,y)\n",
    "    integrate(d2,0,46.5)\n",
    "    \n",
    "else:\n",
    "    #그냥이항분포\n",
    "    p2 = np.random.binomial(int(round(n,1)),p,380000)\n",
    "    np.sort(p2.astype(np.float32))\n",
    "    p2 = p2/k\n",
    "    plt.hist(p2, bins=np.arange(0, n+1, 3))\n"
   ]
  },
  {
   "cell_type": "code",
   "execution_count": 41,
   "id": "4c22ec36",
   "metadata": {},
   "outputs": [
    {
     "data": {
      "image/png": "[encoded data removed]",
      "text/plain": [
       "<Figure size 432x288 with 1 Axes>"
      ]
     },
     "metadata": {
      "needs_background": "light"
     },
     "output_type": "display_data"
    }
   ],
   "source": [
    "n = 10\n",
    "p = 0.8\n",
    "p2 = np.random.binomial(n, p, 380000)\n",
    "p3 = bin_dist(n, p)\n",
    "p3 = np.vectorize(p3)\n",
    "np.sort(p2)\n",
    "plt.hist(p2, bins=np.arange(0, n+1, 1))\n",
    "t = np.linspace(0,n,20*n+n)\n",
    "p3y = p3(t)*380000\n",
    "plt.plot(t, p3y)\n",
    "plt.show()"
   ]
  },
  {
   "cell_type": "code",
   "execution_count": 13,
   "id": "e5de88b9",
   "metadata": {},
   "outputs": [],
   "source": [
    "#sava test\n",
    "#manju test"
   ]
  }
 ],
 "metadata": {
  "kernelspec": {
   "display_name": "Python 3 (ipykernel)",
   "language": "python",
   "name": "python3"
  },
  "language_info": {
   "codemirror_mode": {
    "name": "ipython",
    "version": 3
   },
   "file_extension": ".py",
   "mimetype": "text/x-python",
   "name": "python",
   "nbconvert_exporter": "python",
   "pygments_lexer": "ipython3",
   "version": "3.8.8"
  }
 },
 "nbformat": 4,
 "nbformat_minor": 5
}
