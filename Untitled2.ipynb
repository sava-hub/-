{
 "cells": [
  {
   "cell_type": "markdown",
   "id": "17be4fd3",
   "metadata": {},
   "source": [
    "### 이항분포 실수 확장 활용"
   ]
  },
  {
   "cell_type": "code",
   "execution_count": 65,
   "id": "4ec35f90",
   "metadata": {},
   "outputs": [
    {
     "data": {
      "text/plain": [
       "array([49])"
      ]
     },
     "execution_count": 65,
     "metadata": {},
     "output_type": "execute_result"
    }
   ],
   "source": [
    "import numpy as np\n",
    "import matplotlib.pyplot as plt\n",
    "np.random.binomial(100, 0.5, 1)"
   ]
  },
  {
   "cell_type": "markdown",
   "id": "a2b493ff",
   "metadata": {},
   "source": [
    "### 실수 확장\n",
    "$ _n C _k  = {{\\Gamma(n+1)}\\over{\\Gamma(k+1)\\Gamma(n-k+1)}}$"
   ]
  },
  {
   "cell_type": "code",
   "execution_count": 66,
   "id": "8c0cd7f9",
   "metadata": {},
   "outputs": [],
   "source": [
    "import math\n",
    "def binomial(n,r):\n",
    "    return math.gamma(n+1) / (math.gamma(r+1) * math.gamma(n-r+1))\n",
    "def bin_dist(n,p):\n",
    "    return lambda x: binomial(n,x)*(p**x)*((1-p)**(n-x))"
   ]
  },
  {
   "cell_type": "code",
   "execution_count": null,
   "id": "32d9aae0",
   "metadata": {},
   "outputs": [],
   "source": [
    "def integrate(f, x, y):\n",
    "    #함수 f x~y 적분"
   ]
  },
  {
   "cell_type": "code",
   "execution_count": 61,
   "id": "e82b19e5",
   "metadata": {},
   "outputs": [],
   "source": [
    "d2 = bin_dist(100, 0.8)\n",
    "d2 = np.vectorize(d2)"
   ]
  },
  {
   "cell_type": "code",
   "execution_count": 64,
   "id": "9647558a",
   "metadata": {},
   "outputs": [
    {
     "data": {
      "text/plain": [
       "[<matplotlib.lines.Line2D at 0x7f5b7792ee50>]"
      ]
     },
     "execution_count": 64,
     "metadata": {},
     "output_type": "execute_result"
    },
    {
     "data": {
      "image/png": "[encoded data removed]",
      "text/plain": [
       "<Figure size 432x288 with 1 Axes>"
      ]
     },
     "metadata": {
      "needs_background": "light"
     },
     "output_type": "display_data"
    }
   ],
   "source": [
    "t = np.linspace(0, 100, 1000)\n",
    "y = d2(t)\n",
    "plt.plot(t,y)"
   ]
  },
  {
   "cell_type": "code",
   "execution_count": 13,
   "id": "e5de88b9",
   "metadata": {},
   "outputs": [],
   "source": [
    "#sava test\n",
    "#manju test"
   ]
  }
 ],
 "metadata": {
  "kernelspec": {
   "display_name": "Python 3 (ipykernel)",
   "language": "python",
   "name": "python3"
  },
  "language_info": {
   "codemirror_mode": {
    "name": "ipython",
    "version": 3
   },
   "file_extension": ".py",
   "mimetype": "text/x-python",
   "name": "python",
   "nbconvert_exporter": "python",
   "pygments_lexer": "ipython3",
   "version": "3.8.8"
  }
 },
 "nbformat": 4,
 "nbformat_minor": 5
}
