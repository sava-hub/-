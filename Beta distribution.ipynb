{
 "cells": [
  {
   "cell_type": "markdown",
   "id": "2c48ada3",
   "metadata": {},
   "source": [
    "# 석차를 이용한 모집단 추정\n",
    "\n",
    "  먼저 필자는 통계학에 관한 전문가가 아니므로 앞으로의 추론에 논리적 오류가 있거나 현대 통계학에서 사용되는 용어와 이 글의 용어가 다를 수 있습니다. 양해 부탁드립니다.\n",
    "\n",
    "\n",
    "## 주어진 데이터\n",
    "\n",
    "![title](Images/seongjeokpyo.jpg)\n",
    "\n",
    " ![title](Images/seongjeokpyo2.jpg)\n",
    " \n",
    " \n",
    " ### 요약\n",
    " \n",
    " 1447.7점 : 7/380\n",
    " \n",
    "  811.1점 : 240/380\n",
    "  \n",
    "  \n",
    "  \n",
    "  \n",
    "  ## 추론\n",
    "  \n",
    "  먼저 모집단을 풍파고 학생과 동일한 수준 분포의 무한한 학생들이 동일한 시험을 쳤을때 받을 성적으로 정의하자. 이때 성적의 분포를 정규분포로 가정하고 받을 수 있는 점수의 범위도 실수 전체라고 가정해보자.\n",
    "  주어진 데이터는 단 2명의 데이터로 전교생(n=380)에 비하면 매우 작은 수이다. 그러나 위 데이터에는 석차라는 데이터가 있으므로 신뢰도 100%의 유의미한 학생 전체 평균 점수의 존재 구간을 알 수 있다. 먼저 학생들을 3개의 집단 A, B, C로 나누어 보자. A는 1447.7점 초과의 학생들로 n(A)=6, B는 1447.7점 이하이고 811.1점 초과의 학생들로 n(B)=232, C는 811.1점 이하의 학생들로 n(C)=140이다. \n",
    "  이때 각 group의 평균을 m(group)이라고 할때 전체 학생의 점수 평균 M은\n",
    "  ### M = (6/380)* m(A) +  (1/380)* 1447.7 + (232/380)* m(B) + (1/380)* 811.1 + (140/380)* m(C)\n",
    "  \n",
    "  이다. 이때 각 group 평균의 범위는 group 원소 범위와 같으므로 M은 1212.3136842105 이하 524.0005263158 초과 이다."
   ]
  },
  {
   "cell_type": "code",
   "execution_count": 223,
   "id": "a2b49f1c",
   "metadata": {},
   "outputs": [],
   "source": [
    "import numpy as np\n",
    "import scipy as sp\n",
    "import scipy.stats\n",
    "from scipy.stats import beta\n",
    "import matplotlib.pyplot as plt\n",
    "import sys\n",
    "from mpl_toolkits.mplot3d import axes3d\n",
    "from mpl_toolkits.mplot3d import Axes3D\n",
    "import pandas as pd\n",
    "from pandas import DataFrame\n",
    "from sympy import Symbol, solve"
   ]
  },
  {
   "cell_type": "code",
   "execution_count": 224,
   "id": "02003783",
   "metadata": {},
   "outputs": [
    {
     "name": "stdout",
     "output_type": "stream",
     "text": [
      "\n",
      "분산의 최대값 :  125556.51545340937\n",
      "\n",
      "표준편차의 최대값 :  354.33954824914673\n"
     ]
    }
   ],
   "source": [
    "#위와 마찬가지로 전체 학생의 분산의 최대값을 구해보자\n",
    "#분산이 최대가 되기위해서는 점수가 평균점수로부터의 차이가 커야한다\n",
    "A=np.full((233,6),1500)\n",
    "B=np.full((233,232),636.6)\n",
    "B=np.triu(B, -1)\n",
    "C=np.full((233,140),0)\n",
    "e=np.full((233,1),1447.7)\n",
    "f=np.full((233,1),811.1)\n",
    "D=np.concatenate((e, f), axis=1)\n",
    "max=np.concatenate((A,B), axis=1)\n",
    "max=np.concatenate((max,C), axis=1)\n",
    "max=np.concatenate((max,D), axis=1)\n",
    "max_df=pd.DataFrame(max)\n",
    "var=max_df.var(axis=1)\n",
    "std=max_df.std(axis=1)\n",
    "#print(var,std)\n",
    "print(\"\\n분산의 최대값 : \", var.max())\n",
    "print(\"\\n표준편차의 최대값 : \", std.max())"
   ]
  },
  {
   "cell_type": "code",
   "execution_count": 225,
   "id": "b0edbe03",
   "metadata": {},
   "outputs": [
    {
     "name": "stdout",
     "output_type": "stream",
     "text": [
      "result =>  [{meanB: 841.209459459459}]\n"
     ]
    }
   ],
   "source": [
    "#위와 마찬가지로 전체 학생의 분산의 최솟값을 구해보자\n",
    "#엄밀히 말하자면 A group의 성적은 1447.7초과이므로\n",
    "#표준편차와 분산은 앞으로 구하는 최솟값?을 초과해야한다.\n",
    "#다만 여기서는 그 값을 최솟값으로 표기하겠다.\n",
    "#분산이 최소가 되기위해서는 평균과 점수가 가장 가까워야한다.\n",
    "#이를 위해서는 Bgroup의 평균이 전체 평균과 같아야한다.\n",
    "\n",
    "meanB = Symbol('meanB')  #B group의 평균\n",
    "equation ={(6/380)*1447.7  + (1/380)* 1447.7 + (232/380-1)* meanB + (1/380)* 811.1 + (140/380)*811.1 }\n",
    "result = solve(equation,dict=True)\n",
    "print(\"result => \", result)"
   ]
  },
  {
   "cell_type": "code",
   "execution_count": 248,
   "id": "c75cee03",
   "metadata": {},
   "outputs": [
    {
     "name": "stdout",
     "output_type": "stream",
     "text": [
      "\n",
      "분산의 최솟값 :  7112.218807254622\n",
      "\n",
      "표준편차의 최솟값 :  84.333971845601\n"
     ]
    }
   ],
   "source": [
    "#이때 분산과 표준편차를 구하자\n",
    "A=np.full((1,7),1447.7)\n",
    "B=np.full((1,232),841.209459459459)\n",
    "C=np.full((1,141),811.1)\n",
    "min = np.concatenate((A,B), axis=1)\n",
    "min = np.concatenate((min,C), axis=1)\n",
    "var=min.var(axis=1)\n",
    "std=min.std(axis=1)\n",
    "#print(var,std)\n",
    "print(\"\\n분산의 최솟값 : \", var.max())\n",
    "print(\"\\n표준편차의 최솟값 : \", std.max())"
   ]
  },
  {
   "cell_type": "code",
   "execution_count": 249,
   "id": "976a9156",
   "metadata": {},
   "outputs": [
    {
     "name": "stdout",
     "output_type": "stream",
     "text": [
      "2.0875094772894123\n",
      "-1.6198562586382699\n",
      "2.0653606500222765\n",
      "-0.43072729929545756\n",
      "[885.48731039 268.84318165]\n"
     ]
    }
   ],
   "source": [
    "#모수가 정규분포일때 평균과 분산을 구해보자\n",
    "rv = sp.stats.norm(loc=0, scale=1)\n",
    "\n",
    "print(rv.ppf(373/380)) #7등 분위수값\n",
    "print(rv.ppf(20/380))\n",
    "print(rv.ppf(353/360))\n",
    "print(rv.ppf(120/360)) \n",
    "\n",
    "# 평균 +  분산*2.0875094772894123= 1446.7\n",
    "# 평균 +  분산*-1.6198562586382699= 450\n",
    "A = np.array([[1,2.0875094772894123],[1,-1.6198562586382699]])\n",
    "B = np.array([1446.7, 450])\n",
    "C = np.linalg.solve(A, B)\n",
    "print(C)"
   ]
  },
  {
   "cell_type": "code",
   "execution_count": 364,
   "id": "225f3f01",
   "metadata": {},
   "outputs": [
    {
     "data": {
      "text/plain": [
       "0.0"
      ]
     },
     "execution_count": 364,
     "metadata": {},
     "output_type": "execute_result"
    }
   ],
   "source": [
    "xpdf, ypdf = np.meshgrid(pdf1,pdf2)\n",
    "xypdf = (xpdf*ypdf) #각xy의 확률 밀도에 비례\n",
    "xypdf.min()"
   ]
  },
  {
   "cell_type": "code",
   "execution_count": 322,
   "id": "085760c4",
   "metadata": {
    "scrolled": false
   },
   "outputs": [
    {
     "data": {
      "image/png": "[encoded data removed]",
      "text/plain": [
       "<Figure size 432x288 with 1 Axes>"
      ]
     },
     "metadata": {
      "needs_background": "light"
     },
     "output_type": "display_data"
    },
    {
     "data": {
      "image/png": "[encoded data removed]",
      "text/plain": [
       "<Figure size 432x288 with 1 Axes>"
      ]
     },
     "metadata": {
      "needs_background": "light"
     },
     "output_type": "display_data"
    }
   ],
   "source": [
    "%matplotlib inline\n",
    "# 모집단에서 점수가 1447.7을 초과할 화률의 분포\n",
    "beta1=  sp.stats.beta(a=7, b=375,)\n",
    "xx = np.linspace(0, 1, 1000)\n",
    "pdf1 = beta1.pdf(xx)\n",
    "plt.plot(xx, pdf)\n",
    "plt.title(\"Beta 1 Function\")\n",
    "plt.xlabel(\"$x$\")\n",
    "plt.ylabel(\"$p(x)$\")\n",
    "plt.show()\n",
    "\n",
    "# 모집단에서 점수가 811.1이하일 화률의 분포\n",
    "beta2=  sp.stats.beta(a=122, b=240,)\n",
    "pdf2 = beta2.pdf(xx)\n",
    "plt.plot(xx, pdf)\n",
    "plt.title(\"Beta 2 Function\")\n",
    "plt.xlabel(\"$x$\")\n",
    "plt.ylabel(\"$p(x)$\")\n",
    "plt.show()"
   ]
  },
  {
   "cell_type": "code",
   "execution_count": 269,
   "id": "bf2de670",
   "metadata": {},
   "outputs": [],
   "source": [
    "x_mat = np.array([xx])\n",
    "#yy=xx[:,np.newaxis]\n",
    "y_mat=x_mat.T\n",
    "xy_mat=y_mat@x_mat"
   ]
  },
  {
   "cell_type": "code",
   "execution_count": 365,
   "id": "cfc5efea",
   "metadata": {},
   "outputs": [
    {
     "data": {
      "text/plain": [
       "'for x in range(1000):\\n    for y in range(1000):\\n        if (x-y<5)or(x>y):\\n            xv[x,y]=0\\n            yv[x,y]=0'"
      ]
     },
     "execution_count": 365,
     "metadata": {},
     "output_type": "execute_result"
    }
   ],
   "source": [
    "xv, yv = np.meshgrid(np.linspace(-3, 3, 1000), np.linspace(-3, 3, 1000),sparse=True)\n",
    "\"\"\"for x in range(1000):\n",
    "    for y in range(1000):\n",
    "        if (x-y<5)or(x>y):\n",
    "            xv[x,y]=0\n",
    "            yv[x,y]=0\"\"\""
   ]
  },
  {
   "cell_type": "code",
   "execution_count": 366,
   "id": "84b2d2b9",
   "metadata": {},
   "outputs": [
    {
     "data": {
      "text/plain": [
       "(1000, 1)"
      ]
     },
     "execution_count": 366,
     "metadata": {},
     "output_type": "execute_result"
    }
   ],
   "source": [
    "yv.shape"
   ]
  },
  {
   "cell_type": "code",
   "execution_count": 284,
   "id": "1f79f40b",
   "metadata": {},
   "outputs": [],
   "source": [
    "# 평균 +  표준편차*1447.7점의 분위수= 1446.7\n",
    "# 평균 +  표준편차*811.1점의 분위수= 811.1\n",
    "def solver(x,y):\n",
    "    A = np.array([[1,x],[1,y]])\n",
    "    B = np.array([1446.7, 811.1])\n",
    "    try:\n",
    "        C = np.linalg.solve(A, B)\n",
    "    except Exception:\n",
    "        return np.array([0,0])\n",
    "    #if (1213<C[0])or(524>C[0]):\n",
    "    if (10000<C[0])or(1>C[0]):\n",
    "        return np.array([0,0])\n",
    "    #if (C[1]>354.33954824914673)or (84.333971845601>C[1]):\n",
    "    if (10000<C[1])or(1>C[1]):\n",
    "        return np.array([0,0])\n",
    "    return C\n",
    "solver = np.vectorize(solver, signature='(),()->(k)', otypes=[np.ndarray])\n",
    "\n",
    "\n",
    "np.set_printoptions(threshold=sys.maxsize)\n",
    "C=solver(xv,yv)\n",
    "C=np.nan_to_num(C, nan=0, posinf=0, neginf=0)"
   ]
  },
  {
   "cell_type": "code",
   "execution_count": 273,
   "id": "b3aac156",
   "metadata": {},
   "outputs": [
    {
     "name": "stdout",
     "output_type": "stream",
     "text": [
      "<class 'numpy.ndarray'>\n",
      "(1000, 1000, 2)\n",
      "1212.9997455470739\n"
     ]
    }
   ],
   "source": [
    "#solver test\n",
    "solver(2,-1)\n",
    "print(type(C))\n",
    "print(C.shape)\n",
    "print(np.max(C[:,:,0]))"
   ]
  },
  {
   "cell_type": "code",
   "execution_count": 287,
   "id": "a79b9dce",
   "metadata": {},
   "outputs": [
    {
     "data": {
      "text/plain": [
       "(dtype('float64'), (1000, 1000))"
      ]
     },
     "execution_count": 287,
     "metadata": {},
     "output_type": "execute_result"
    }
   ],
   "source": [
    "C = C.astype(float)\n",
    "D = C[:,:,0]\n",
    "D.dtype, D.shape"
   ]
  },
  {
   "cell_type": "code",
   "execution_count": 308,
   "id": "ee585e07",
   "metadata": {
    "scrolled": true
   },
   "outputs": [],
   "source": [
    "%matplotlib qt5\n",
    "fig = plt.figure()\n",
    "ax = fig.add_subplot(111, projection='3d')\n",
    "\n",
    "surf_mean = ax.plot_surface(xv, yv, C[:,:,0], cmap='jet')\n",
    "\n",
    "fig.colorbar(surf_mean, shrink=0.6, aspect=8)\n",
    "ax.set_xlabel('X Label')\n",
    "ax.set_ylabel('Y Label')\n",
    "ax.set_zlabel('Z Label')\n",
    "#ax.set_zlim(0, 200)\n",
    "\n",
    "plt.tight_layout()\n",
    "#plt.show()"
   ]
  },
  {
   "cell_type": "code",
   "execution_count": 309,
   "id": "d518b97c",
   "metadata": {
    "scrolled": true
   },
   "outputs": [],
   "source": [
    "%matplotlib qt5\n",
    "fig = plt.figure()\n",
    "ax = fig.add_subplot(111, projection='3d')\n",
    "\n",
    "surf_std = ax.plot_surface(xv, yv, C[:,:,1], cmap='jet')\n",
    "fig.colorbar(surf_std)\n",
    "ax.set_xlabel('X Label')\n",
    "ax.set_ylabel('Y Label')\n",
    "ax.set_zlabel('Z Label')\n",
    "#ax.set_zlim(0, 200)\n",
    "\n",
    "plt.tight_layout()\n",
    "plt.show()"
   ]
  },
  {
   "cell_type": "code",
   "execution_count": 313,
   "id": "1b50650d",
   "metadata": {
    "scrolled": true
   },
   "outputs": [],
   "source": [
    "#동시에 보기는 힘듬\n",
    "%matplotlib qt5\n",
    "fig = plt.figure()\n",
    "ax = fig.add_subplot(111, projection='3d')\n",
    "\n",
    "\n",
    "surf_std = ax.plot_surface(xv, yv, C[:,:,0], cmap='autumn')\n",
    "surf_std = ax.plot_surface(xv, yv, C[:,:,1], cmap='winter')\n",
    "\n",
    "fig.colorbar(surf_std, shrink=0.6, aspect=8)\n",
    "ax.set_xlabel('mean')\n",
    "ax.set_ylabel('Y Label')\n",
    "ax.set_zlabel('Z Label')\n",
    "#ax.set_zlim(0, 200)\n",
    "\n",
    "plt.tight_layout()\n",
    "plt.show()"
   ]
  },
  {
   "cell_type": "code",
   "execution_count": 315,
   "id": "d7e05985",
   "metadata": {},
   "outputs": [
    {
     "data": {
      "text/plain": [
       "numpy.ndarray"
      ]
     },
     "execution_count": 315,
     "metadata": {},
     "output_type": "execute_result"
    }
   ],
   "source": [
    "C.shape\n",
    "type(C)"
   ]
  },
  {
   "cell_type": "code",
   "execution_count": 356,
   "id": "42f9f170",
   "metadata": {},
   "outputs": [
    {
     "data": {
      "image/png": "[encoded data removed]",
      "text/plain": [
       "<Figure size 432x288 with 2 Axes>"
      ]
     },
     "metadata": {
      "needs_background": "light"
     },
     "output_type": "display_data"
    }
   ],
   "source": [
    "fig = plt.figure()\n",
    "ax = fig.add_subplot(111, projection='3d')\n",
    "\n",
    "surf_std = ax.plot_surface(C[:,:,0], C[:,:,1], xypdf, cmap='jet')\n",
    "fig.colorbar(surf_std)\n",
    "ax.set_xlabel('mean')\n",
    "ax.set_ylabel('std')\n",
    "ax.set_zlabel('possibility')\n",
    "ax.set_zlim(0, 0.0001)\n",
    "\n",
    "plt.tight_layout()\n",
    "plt.show()"
   ]
  },
  {
   "cell_type": "code",
   "execution_count": 361,
   "id": "071db2a7",
   "metadata": {},
   "outputs": [
    {
     "data": {
      "text/plain": [
       "(1000, 1000)"
      ]
     },
     "execution_count": 361,
     "metadata": {},
     "output_type": "execute_result"
    }
   ],
   "source": []
  }
 ],
 "metadata": {
  "kernelspec": {
   "display_name": "Python 3 (ipykernel)",
   "language": "python",
   "name": "python3"
  },
  "language_info": {
   "codemirror_mode": {
    "name": "ipython",
    "version": 3
   },
   "file_extension": ".py",
   "mimetype": "text/x-python",
   "name": "python",
   "nbconvert_exporter": "python",
   "pygments_lexer": "ipython3",
   "version": "3.9.7"
  }
 },
 "nbformat": 4,
 "nbformat_minor": 5
}
